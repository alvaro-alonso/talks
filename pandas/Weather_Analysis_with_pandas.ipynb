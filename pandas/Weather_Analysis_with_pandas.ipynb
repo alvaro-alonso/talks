{
 "cells": [
  {
   "cell_type": "markdown",
   "metadata": {},
   "source": [
    "# Efficient data analysis with pandas"
   ]
  },
  {
   "cell_type": "code",
   "execution_count": null,
   "metadata": {
    "collapsed": false,
    "scrolled": true
   },
   "outputs": [],
   "source": [
    "import pandas as pd\n",
    "\n",
    "# read csv files\n",
    "weather_entries = pd.read_csv(\"weather_station_information.csv\", sep='\\t')\n",
    "stations = pd.read_csv(\"stations.csv\", sep=',')\n",
    "weather_entries"
   ]
  },
  {
   "cell_type": "code",
   "execution_count": null,
   "metadata": {
    "collapsed": false
   },
   "outputs": [],
   "source": [
    "stations"
   ]
  },
  {
   "cell_type": "markdown",
   "metadata": {},
   "source": [
    "### column operations"
   ]
  },
  {
   "cell_type": "code",
   "execution_count": null,
   "metadata": {
    "collapsed": false
   },
   "outputs": [],
   "source": [
    "# column aggregations\n",
    "total_rain_water = weather_entries['precipitation'].sum()\n",
    "avg_height_weather_station = stations['HGHT'].mean()\n",
    "max_temp_ever = weather_entries['max_temp'].max()\n",
    "count_weather_station = stations['STAID'].count()\n",
    "number_of_countries = stations['CN'].nunique()\n",
    "print \"total rain water collected by weather stations: %i\" % (total_rain_water,)\n",
    "print \"average height of weather station: %i\" % (avg_height_weather_station,)\n",
    "print \"highest temperature recorded since 2010: %i degrees\" % (max_temp_ever,)\n",
    "print \"count of weather stations: %i\" % (count_weather_station,)\n",
    "print \"number of countries members: %i\" % (number_of_countries,)"
   ]
  },
  {
   "cell_type": "code",
   "execution_count": null,
   "metadata": {
    "collapsed": false,
    "scrolled": true
   },
   "outputs": [],
   "source": [
    "# operations between columns \n",
    "weather_entries['daily_diff'] = weather_entries['max_temp'] - weather_entries['min_temp']\n",
    "weather_entries"
   ]
  },
  {
   "cell_type": "code",
   "execution_count": null,
   "metadata": {
    "collapsed": false
   },
   "outputs": [],
   "source": [
    "weather_entries.describe()"
   ]
  },
  {
   "cell_type": "code",
   "execution_count": null,
   "metadata": {
    "collapsed": false,
    "scrolled": true
   },
   "outputs": [],
   "source": [
    "# special function\n",
    "stations['CN'].value_counts()\n",
    "# sort by value"
   ]
  },
  {
   "cell_type": "code",
   "execution_count": null,
   "metadata": {
    "collapsed": false
   },
   "outputs": [],
   "source": [
    "# return normalize values\n",
    "stations['CN'].value_counts(normalize=True)"
   ]
  },
  {
   "cell_type": "code",
   "execution_count": null,
   "metadata": {
    "collapsed": false,
    "scrolled": true
   },
   "outputs": [],
   "source": [
    "# parse dates\n",
    "# create column with month and year\n",
    "weather_entries['date'] = pd.to_datetime(weather_entries['date'], format=\"%Y%m%d\")\n",
    "weather_entries['month'] = weather_entries.date.dt.month\n",
    "weather_entries['year'] = weather_entries.date.dt.year\n",
    "weather_entries"
   ]
  },
  {
   "cell_type": "code",
   "execution_count": null,
   "metadata": {
    "collapsed": false,
    "scrolled": true
   },
   "outputs": [],
   "source": [
    "# stations in berlin\n",
    "stations[stations.STANAME.str.contains(\"BERLIN\")]"
   ]
  },
  {
   "cell_type": "code",
   "execution_count": null,
   "metadata": {
    "collapsed": false,
    "scrolled": true
   },
   "outputs": [],
   "source": [
    "# advance filtering\n",
    "berlin_stations = stations[stations.STANAME.str.contains(\"BERLIN-\")].STAID\n",
    "print \"Weather_stations in Berlin: %i\" % (len(berlin_stations))\n",
    "berlin_entries = weather_entries[weather_entries.station.isin(berlin_stations)]\n",
    "berlin_entries"
   ]
  },
  {
   "cell_type": "markdown",
   "metadata": {},
   "source": [
    "\"~\" operator perform not in"
   ]
  },
  {
   "cell_type": "markdown",
   "metadata": {},
   "source": [
    "### Divide and conquer: groupby"
   ]
  },
  {
   "cell_type": "code",
   "execution_count": null,
   "metadata": {
    "collapsed": false,
    "scrolled": true
   },
   "outputs": [],
   "source": [
    "# groupby on multiple dimensions\n",
    "month_agg = berlin_entries.groupby(['station', 'month']).mean().round(0)\n",
    "month_agg"
   ]
  },
  {
   "cell_type": "code",
   "execution_count": null,
   "metadata": {
    "collapsed": false,
    "scrolled": true
   },
   "outputs": [],
   "source": [
    "# aggregate on multiindex\n",
    "# agg function\n",
    "agg_dict = {'max_temp': ['max', 'min', 'mean', 'count'], 'min_temp': ['max', 'min', 'mean'], 'precipitation':['max', 'min', 'mean']}\n",
    "station_agg = month_agg.groupby(level=0).agg(agg_dict).round(2)\n",
    "station_agg"
   ]
  },
  {
   "cell_type": "code",
   "execution_count": null,
   "metadata": {
    "collapsed": false,
    "scrolled": true
   },
   "outputs": [],
   "source": [
    "# groupby as iterator is a good way to slide the data\n",
    "for station, df in berlin_entries.groupby('station'):\n",
    "    print station\n",
    "    print \"*\" * 50\n",
    "    print df.head(1)\n",
    "    print \"=\" * 50"
   ]
  },
  {
   "cell_type": "markdown",
   "metadata": {},
   "source": [
    "# Understanding the data: Plotting"
   ]
  },
  {
   "cell_type": "code",
   "execution_count": null,
   "metadata": {
    "collapsed": false
   },
   "outputs": [],
   "source": [
    "import matplotlib.pyplot as plt\n",
    "\n",
    "%matplotlib inline\n",
    "\n",
    "berlin_entries.station.value_counts().plot(kind='bar')"
   ]
  },
  {
   "cell_type": "code",
   "execution_count": null,
   "metadata": {
    "collapsed": false
   },
   "outputs": [],
   "source": [
    "berlin_entries.groupby('month').station.count().plot(ylim=[0,3100])"
   ]
  },
  {
   "cell_type": "markdown",
   "metadata": {},
   "source": [
    "For comparison always set the y-axis to 0 to observe the total impact"
   ]
  },
  {
   "cell_type": "markdown",
   "metadata": {},
   "source": [
    "Information for the last months of the year is lower because the data goes until 30.08.2016"
   ]
  },
  {
   "cell_type": "code",
   "execution_count": null,
   "metadata": {
    "collapsed": false
   },
   "outputs": [],
   "source": [
    "berlin_full_year = berlin_entries[berlin_entries.year < 2016]"
   ]
  },
  {
   "cell_type": "code",
   "execution_count": null,
   "metadata": {
    "collapsed": false
   },
   "outputs": [],
   "source": [
    "berlin_full_year.groupby('month').station.count().plot(ylim=[0,3100])"
   ]
  },
  {
   "cell_type": "markdown",
   "metadata": {},
   "source": [
    "So what is good weather in Berlin????\n",
    "What should we take as indicator ? max_temp / avg_temp / min_temp ?"
   ]
  },
  {
   "cell_type": "code",
   "execution_count": null,
   "metadata": {
    "collapsed": false,
    "scrolled": true
   },
   "outputs": [],
   "source": [
    "temp_dist = dict()\n",
    "for col in ['max_temp', 'avg_temp', 'min_temp']:\n",
    "    dist = berlin_full_year[col].value_counts(normalize=True)\n",
    "    temp_dist[col] = dist\n",
    "    dist.plot(label=col, legend=True, title='distribution plot')\n",
    "plt.show()"
   ]
  },
  {
   "cell_type": "markdown",
   "metadata": {},
   "source": [
    "Value_counts sort the data by value desc, plt does not sort columns."
   ]
  },
  {
   "cell_type": "markdown",
   "metadata": {},
   "source": [
    "the min_temp bell is thiner and taller vs the max_temp curve is shorter and more spread."
   ]
  },
  {
   "cell_type": "code",
   "execution_count": null,
   "metadata": {
    "collapsed": false,
    "scrolled": true
   },
   "outputs": [],
   "source": [
    "for temp, dist in temp_dist.iteritems():\n",
    "    dist.cumsum().plot(label=temp, legend=True, title='cummulative distribution plot')"
   ]
  },
  {
   "cell_type": "code",
   "execution_count": null,
   "metadata": {
    "collapsed": false,
    "scrolled": true
   },
   "outputs": [],
   "source": [
    "temp_dist['avg_temp'].cumsum()"
   ]
  },
  {
   "cell_type": "code",
   "execution_count": null,
   "metadata": {
    "collapsed": false,
    "scrolled": true
   },
   "outputs": [],
   "source": [
    "berlin_full_year.precipitation.value_counts(normalize=True).sort_index().cumsum().plot()"
   ]
  },
  {
   "cell_type": "markdown",
   "metadata": {},
   "source": [
    "Temperature and precipitation follow different distribution (normal and exponential respectively)"
   ]
  },
  {
   "cell_type": "code",
   "execution_count": null,
   "metadata": {
    "collapsed": false
   },
   "outputs": [],
   "source": [
    "berlin_full_year['rainy_days'] = berlin_full_year.precipitation.apply(lambda x: 1 if x > 0 else 0)\n",
    "agg_dict2 = {'avg_temp': 'mean', 'daily_diff': 'mean', 'rainy_days': 'sum'}\n",
    "station_final = berlin_full_year.groupby(['station', 'year']).agg(agg_dict2).groupby(level=0).mean()\n",
    "station_final"
   ]
  },
  {
   "cell_type": "code",
   "execution_count": null,
   "metadata": {
    "collapsed": false
   },
   "outputs": [],
   "source": [
    "plt.scatter(station_final.avg_temp, station_final.rainy_days, station_final.daily_diff)"
   ]
  },
  {
   "cell_type": "code",
   "execution_count": null,
   "metadata": {
    "collapsed": false
   },
   "outputs": [],
   "source": [
    "station_final[(station_final.rainy_days < 100) & (station_final.avg_temp > 9.8)].join(stations.set_index('STAID'))"
   ]
  },
  {
   "cell_type": "code",
   "execution_count": null,
   "metadata": {
    "collapsed": true
   },
   "outputs": [],
   "source": []
  }
 ],
 "metadata": {
  "kernelspec": {
   "display_name": "Python 2",
   "language": "python",
   "name": "python2"
  },
  "language_info": {
   "codemirror_mode": {
    "name": "ipython",
    "version": 2
   },
   "file_extension": ".py",
   "mimetype": "text/x-python",
   "name": "python",
   "nbconvert_exporter": "python",
   "pygments_lexer": "ipython2",
   "version": "2.7.11"
  }
 },
 "nbformat": 4,
 "nbformat_minor": 0
}
